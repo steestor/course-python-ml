{
 "cells": [
  {
   "cell_type": "markdown",
   "id": "eb3b8db6",
   "metadata": {},
   "source": [
    "# Sesión 2 Apartado 5 — Taller: Benchmarking\n",
    "\n",
    "En este taller aplicarás lo visto en las notebooks anteriores para comparar y seleccionar modelos de clasificación binaria de forma rigurosa.\n",
    "\n",
    "Qué pondrás en práctica (S2_A1 → S2_A4):\n",
    "- Entrenamiento de varios modelos base (LR, RF, SVM, KNN)\n",
    "- Preprocesado con escalado (especialmente útil para SVM/KNN)\n",
    "- Métricas de evaluación: Accuracy, F1, AUC y matriz de confusión\n",
    "- Validación cruzada (k-fold, estratificada) y estabilidad de resultados\n",
    "- Búsqueda de hiperparámetros con GridSearchCV (multi-métrica + refit)\n",
    "- Visualizaciones: matrices de confusión, curvas ROC/PR\n",
    "- (Opcional) Nested CV para estimar generalización de la selección de hiperparámetros\n",
    "- (Opcional) Persistencia del mejor modelo\n"
   ]
  },
  {
   "cell_type": "code",
   "execution_count": 40,
   "id": "d6a22dd1-cb9c-426d-8b7e-db6e039b58e2",
   "metadata": {},
   "outputs": [],
   "source": [
    "import warnings\n",
    "warnings.filterwarnings('ignore')"
   ]
  },
  {
   "cell_type": "code",
   "execution_count": 1,
   "id": "81b73e85-ea5e-42f9-9fb6-732f4b51ae89",
   "metadata": {},
   "outputs": [],
   "source": [
    "# Dataset y configuración\n",
    "from sklearn.datasets import load_breast_cancer\n",
    "from sklearn.model_selection import train_test_split\n",
    "import pandas as pd\n",
    "import numpy as np"
   ]
  },
  {
   "cell_type": "code",
   "execution_count": 3,
   "id": "f893df8e-de80-47e4-8d62-146939de9829",
   "metadata": {},
   "outputs": [],
   "source": [
    "RANDOM_STATE = 42\n",
    "\n",
    "data = load_breast_cancer()\n",
    "X = data.data\n",
    "y = data.target"
   ]
  },
  {
   "cell_type": "code",
   "execution_count": 13,
   "id": "5c44568f-7e3e-4389-bcf3-fad60f7d4749",
   "metadata": {},
   "outputs": [
    {
     "data": {
      "text/html": [
       "<div>\n",
       "<style scoped>\n",
       "    .dataframe tbody tr th:only-of-type {\n",
       "        vertical-align: middle;\n",
       "    }\n",
       "\n",
       "    .dataframe tbody tr th {\n",
       "        vertical-align: top;\n",
       "    }\n",
       "\n",
       "    .dataframe thead th {\n",
       "        text-align: right;\n",
       "    }\n",
       "</style>\n",
       "<table border=\"1\" class=\"dataframe\">\n",
       "  <thead>\n",
       "    <tr style=\"text-align: right;\">\n",
       "      <th></th>\n",
       "      <th>0</th>\n",
       "      <th>1</th>\n",
       "      <th>2</th>\n",
       "      <th>3</th>\n",
       "      <th>4</th>\n",
       "      <th>5</th>\n",
       "      <th>6</th>\n",
       "      <th>7</th>\n",
       "      <th>8</th>\n",
       "      <th>9</th>\n",
       "      <th>...</th>\n",
       "      <th>20</th>\n",
       "      <th>21</th>\n",
       "      <th>22</th>\n",
       "      <th>23</th>\n",
       "      <th>24</th>\n",
       "      <th>25</th>\n",
       "      <th>26</th>\n",
       "      <th>27</th>\n",
       "      <th>28</th>\n",
       "      <th>29</th>\n",
       "    </tr>\n",
       "  </thead>\n",
       "  <tbody>\n",
       "    <tr>\n",
       "      <th>0</th>\n",
       "      <td>17.99</td>\n",
       "      <td>10.38</td>\n",
       "      <td>122.8</td>\n",
       "      <td>1001.0</td>\n",
       "      <td>0.11840</td>\n",
       "      <td>0.27760</td>\n",
       "      <td>0.3001</td>\n",
       "      <td>0.14710</td>\n",
       "      <td>0.2419</td>\n",
       "      <td>0.07871</td>\n",
       "      <td>...</td>\n",
       "      <td>25.38</td>\n",
       "      <td>17.33</td>\n",
       "      <td>184.6</td>\n",
       "      <td>2019.0</td>\n",
       "      <td>0.1622</td>\n",
       "      <td>0.6656</td>\n",
       "      <td>0.7119</td>\n",
       "      <td>0.2654</td>\n",
       "      <td>0.4601</td>\n",
       "      <td>0.11890</td>\n",
       "    </tr>\n",
       "    <tr>\n",
       "      <th>1</th>\n",
       "      <td>20.57</td>\n",
       "      <td>17.77</td>\n",
       "      <td>132.9</td>\n",
       "      <td>1326.0</td>\n",
       "      <td>0.08474</td>\n",
       "      <td>0.07864</td>\n",
       "      <td>0.0869</td>\n",
       "      <td>0.07017</td>\n",
       "      <td>0.1812</td>\n",
       "      <td>0.05667</td>\n",
       "      <td>...</td>\n",
       "      <td>24.99</td>\n",
       "      <td>23.41</td>\n",
       "      <td>158.8</td>\n",
       "      <td>1956.0</td>\n",
       "      <td>0.1238</td>\n",
       "      <td>0.1866</td>\n",
       "      <td>0.2416</td>\n",
       "      <td>0.1860</td>\n",
       "      <td>0.2750</td>\n",
       "      <td>0.08902</td>\n",
       "    </tr>\n",
       "    <tr>\n",
       "      <th>2</th>\n",
       "      <td>19.69</td>\n",
       "      <td>21.25</td>\n",
       "      <td>130.0</td>\n",
       "      <td>1203.0</td>\n",
       "      <td>0.10960</td>\n",
       "      <td>0.15990</td>\n",
       "      <td>0.1974</td>\n",
       "      <td>0.12790</td>\n",
       "      <td>0.2069</td>\n",
       "      <td>0.05999</td>\n",
       "      <td>...</td>\n",
       "      <td>23.57</td>\n",
       "      <td>25.53</td>\n",
       "      <td>152.5</td>\n",
       "      <td>1709.0</td>\n",
       "      <td>0.1444</td>\n",
       "      <td>0.4245</td>\n",
       "      <td>0.4504</td>\n",
       "      <td>0.2430</td>\n",
       "      <td>0.3613</td>\n",
       "      <td>0.08758</td>\n",
       "    </tr>\n",
       "  </tbody>\n",
       "</table>\n",
       "<p>3 rows × 30 columns</p>\n",
       "</div>"
      ],
      "text/plain": [
       "      0      1      2       3        4        5       6        7       8   \\\n",
       "0  17.99  10.38  122.8  1001.0  0.11840  0.27760  0.3001  0.14710  0.2419   \n",
       "1  20.57  17.77  132.9  1326.0  0.08474  0.07864  0.0869  0.07017  0.1812   \n",
       "2  19.69  21.25  130.0  1203.0  0.10960  0.15990  0.1974  0.12790  0.2069   \n",
       "\n",
       "        9   ...     20     21     22      23      24      25      26      27  \\\n",
       "0  0.07871  ...  25.38  17.33  184.6  2019.0  0.1622  0.6656  0.7119  0.2654   \n",
       "1  0.05667  ...  24.99  23.41  158.8  1956.0  0.1238  0.1866  0.2416  0.1860   \n",
       "2  0.05999  ...  23.57  25.53  152.5  1709.0  0.1444  0.4245  0.4504  0.2430   \n",
       "\n",
       "       28       29  \n",
       "0  0.4601  0.11890  \n",
       "1  0.2750  0.08902  \n",
       "2  0.3613  0.08758  \n",
       "\n",
       "[3 rows x 30 columns]"
      ]
     },
     "execution_count": 13,
     "metadata": {},
     "output_type": "execute_result"
    }
   ],
   "source": [
    "(pd.DataFrame(data.data)).head(3)"
   ]
  },
  {
   "cell_type": "code",
   "execution_count": 11,
   "id": "c8dbd499-c76e-4686-91ea-077d42f440b6",
   "metadata": {},
   "outputs": [
    {
     "data": {
      "text/html": [
       "<div>\n",
       "<style scoped>\n",
       "    .dataframe tbody tr th:only-of-type {\n",
       "        vertical-align: middle;\n",
       "    }\n",
       "\n",
       "    .dataframe tbody tr th {\n",
       "        vertical-align: top;\n",
       "    }\n",
       "\n",
       "    .dataframe thead th {\n",
       "        text-align: right;\n",
       "    }\n",
       "</style>\n",
       "<table border=\"1\" class=\"dataframe\">\n",
       "  <thead>\n",
       "    <tr style=\"text-align: right;\">\n",
       "      <th></th>\n",
       "      <th>0</th>\n",
       "    </tr>\n",
       "  </thead>\n",
       "  <tbody>\n",
       "    <tr>\n",
       "      <th>0</th>\n",
       "      <td>0</td>\n",
       "    </tr>\n",
       "    <tr>\n",
       "      <th>1</th>\n",
       "      <td>0</td>\n",
       "    </tr>\n",
       "    <tr>\n",
       "      <th>2</th>\n",
       "      <td>0</td>\n",
       "    </tr>\n",
       "  </tbody>\n",
       "</table>\n",
       "</div>"
      ],
      "text/plain": [
       "   0\n",
       "0  0\n",
       "1  0\n",
       "2  0"
      ]
     },
     "execution_count": 11,
     "metadata": {},
     "output_type": "execute_result"
    }
   ],
   "source": [
    "(pd.DataFrame(data.target)).head(3)"
   ]
  },
  {
   "cell_type": "code",
   "execution_count": 15,
   "id": "12d09fcd-11ba-49a8-aaab-bbf996b4af00",
   "metadata": {},
   "outputs": [
    {
     "data": {
      "text/plain": [
       "['mean radius',\n",
       " 'mean texture',\n",
       " 'mean perimeter',\n",
       " 'mean area',\n",
       " 'mean smoothness',\n",
       " 'mean compactness',\n",
       " 'mean concavity',\n",
       " 'mean concave points',\n",
       " 'mean symmetry',\n",
       " 'mean fractal dimension',\n",
       " 'radius error',\n",
       " 'texture error',\n",
       " 'perimeter error',\n",
       " 'area error',\n",
       " 'smoothness error',\n",
       " 'compactness error',\n",
       " 'concavity error',\n",
       " 'concave points error',\n",
       " 'symmetry error',\n",
       " 'fractal dimension error',\n",
       " 'worst radius',\n",
       " 'worst texture',\n",
       " 'worst perimeter',\n",
       " 'worst area',\n",
       " 'worst smoothness',\n",
       " 'worst compactness',\n",
       " 'worst concavity',\n",
       " 'worst concave points',\n",
       " 'worst symmetry',\n",
       " 'worst fractal dimension']"
      ]
     },
     "execution_count": 15,
     "metadata": {},
     "output_type": "execute_result"
    }
   ],
   "source": [
    "feature_names = data.feature_names\n",
    "feature_names.tolist()"
   ]
  },
  {
   "cell_type": "code",
   "execution_count": 16,
   "id": "6f433bb5-8f15-4e05-8f09-da9d3be03d45",
   "metadata": {},
   "outputs": [],
   "source": [
    "# División estratificada\n",
    "X_train, X_test, y_train, y_test = train_test_split(\n",
    "    X, y, test_size=0.3, random_state=RANDOM_STATE, stratify=y\n",
    ")"
   ]
  },
  {
   "cell_type": "code",
   "execution_count": 17,
   "id": "ead0039b-0426-4858-b177-1c3e48f83ffe",
   "metadata": {},
   "outputs": [
    {
     "name": "stdout",
     "output_type": "stream",
     "text": [
      "Train shape: (398, 30) Test shape: (171, 30)\n"
     ]
    }
   ],
   "source": [
    "print('Train shape:', X_train.shape, 'Test shape:', X_test.shape)"
   ]
  },
  {
   "cell_type": "code",
   "execution_count": 18,
   "id": "e2442b8c-353e-4e77-87e0-e110bd0905bd",
   "metadata": {},
   "outputs": [
    {
     "data": {
      "text/html": [
       "<div>\n",
       "<style scoped>\n",
       "    .dataframe tbody tr th:only-of-type {\n",
       "        vertical-align: middle;\n",
       "    }\n",
       "\n",
       "    .dataframe tbody tr th {\n",
       "        vertical-align: top;\n",
       "    }\n",
       "\n",
       "    .dataframe thead th {\n",
       "        text-align: right;\n",
       "    }\n",
       "</style>\n",
       "<table border=\"1\" class=\"dataframe\">\n",
       "  <thead>\n",
       "    <tr style=\"text-align: right;\">\n",
       "      <th></th>\n",
       "      <th>mean radius</th>\n",
       "      <th>mean texture</th>\n",
       "      <th>mean perimeter</th>\n",
       "      <th>mean area</th>\n",
       "      <th>mean smoothness</th>\n",
       "      <th>mean compactness</th>\n",
       "      <th>mean concavity</th>\n",
       "      <th>mean concave points</th>\n",
       "      <th>mean symmetry</th>\n",
       "      <th>mean fractal dimension</th>\n",
       "      <th>...</th>\n",
       "      <th>worst radius</th>\n",
       "      <th>worst texture</th>\n",
       "      <th>worst perimeter</th>\n",
       "      <th>worst area</th>\n",
       "      <th>worst smoothness</th>\n",
       "      <th>worst compactness</th>\n",
       "      <th>worst concavity</th>\n",
       "      <th>worst concave points</th>\n",
       "      <th>worst symmetry</th>\n",
       "      <th>worst fractal dimension</th>\n",
       "    </tr>\n",
       "  </thead>\n",
       "  <tbody>\n",
       "    <tr>\n",
       "      <th>0</th>\n",
       "      <td>11.62</td>\n",
       "      <td>18.18</td>\n",
       "      <td>76.38</td>\n",
       "      <td>408.8</td>\n",
       "      <td>0.11750</td>\n",
       "      <td>0.14830</td>\n",
       "      <td>0.10200</td>\n",
       "      <td>0.05564</td>\n",
       "      <td>0.1957</td>\n",
       "      <td>0.07255</td>\n",
       "      <td>...</td>\n",
       "      <td>13.36</td>\n",
       "      <td>25.40</td>\n",
       "      <td>88.14</td>\n",
       "      <td>528.1</td>\n",
       "      <td>0.17800</td>\n",
       "      <td>0.28780</td>\n",
       "      <td>0.31860</td>\n",
       "      <td>0.14160</td>\n",
       "      <td>0.2660</td>\n",
       "      <td>0.09270</td>\n",
       "    </tr>\n",
       "    <tr>\n",
       "      <th>1</th>\n",
       "      <td>11.20</td>\n",
       "      <td>29.37</td>\n",
       "      <td>70.67</td>\n",
       "      <td>386.0</td>\n",
       "      <td>0.07449</td>\n",
       "      <td>0.03558</td>\n",
       "      <td>0.00000</td>\n",
       "      <td>0.00000</td>\n",
       "      <td>0.1060</td>\n",
       "      <td>0.05502</td>\n",
       "      <td>...</td>\n",
       "      <td>11.92</td>\n",
       "      <td>38.30</td>\n",
       "      <td>75.19</td>\n",
       "      <td>439.6</td>\n",
       "      <td>0.09267</td>\n",
       "      <td>0.05494</td>\n",
       "      <td>0.00000</td>\n",
       "      <td>0.00000</td>\n",
       "      <td>0.1566</td>\n",
       "      <td>0.05905</td>\n",
       "    </tr>\n",
       "    <tr>\n",
       "      <th>2</th>\n",
       "      <td>10.57</td>\n",
       "      <td>18.32</td>\n",
       "      <td>66.82</td>\n",
       "      <td>340.9</td>\n",
       "      <td>0.08142</td>\n",
       "      <td>0.04462</td>\n",
       "      <td>0.01993</td>\n",
       "      <td>0.01111</td>\n",
       "      <td>0.2372</td>\n",
       "      <td>0.05768</td>\n",
       "      <td>...</td>\n",
       "      <td>10.94</td>\n",
       "      <td>23.31</td>\n",
       "      <td>69.35</td>\n",
       "      <td>366.3</td>\n",
       "      <td>0.09794</td>\n",
       "      <td>0.06542</td>\n",
       "      <td>0.03986</td>\n",
       "      <td>0.02222</td>\n",
       "      <td>0.2699</td>\n",
       "      <td>0.06736</td>\n",
       "    </tr>\n",
       "    <tr>\n",
       "      <th>3</th>\n",
       "      <td>12.76</td>\n",
       "      <td>18.84</td>\n",
       "      <td>81.87</td>\n",
       "      <td>496.6</td>\n",
       "      <td>0.09676</td>\n",
       "      <td>0.07952</td>\n",
       "      <td>0.02688</td>\n",
       "      <td>0.01781</td>\n",
       "      <td>0.1759</td>\n",
       "      <td>0.06183</td>\n",
       "      <td>...</td>\n",
       "      <td>13.75</td>\n",
       "      <td>25.99</td>\n",
       "      <td>87.82</td>\n",
       "      <td>579.7</td>\n",
       "      <td>0.12980</td>\n",
       "      <td>0.18390</td>\n",
       "      <td>0.12550</td>\n",
       "      <td>0.08312</td>\n",
       "      <td>0.2744</td>\n",
       "      <td>0.07238</td>\n",
       "    </tr>\n",
       "    <tr>\n",
       "      <th>4</th>\n",
       "      <td>11.29</td>\n",
       "      <td>13.04</td>\n",
       "      <td>72.23</td>\n",
       "      <td>388.0</td>\n",
       "      <td>0.09834</td>\n",
       "      <td>0.07608</td>\n",
       "      <td>0.03265</td>\n",
       "      <td>0.02755</td>\n",
       "      <td>0.1769</td>\n",
       "      <td>0.06270</td>\n",
       "      <td>...</td>\n",
       "      <td>12.32</td>\n",
       "      <td>16.18</td>\n",
       "      <td>78.27</td>\n",
       "      <td>457.5</td>\n",
       "      <td>0.13580</td>\n",
       "      <td>0.15070</td>\n",
       "      <td>0.12750</td>\n",
       "      <td>0.08750</td>\n",
       "      <td>0.2733</td>\n",
       "      <td>0.08022</td>\n",
       "    </tr>\n",
       "  </tbody>\n",
       "</table>\n",
       "<p>5 rows × 30 columns</p>\n",
       "</div>"
      ],
      "text/plain": [
       "   mean radius  mean texture  mean perimeter  mean area  mean smoothness  \\\n",
       "0        11.62         18.18           76.38      408.8          0.11750   \n",
       "1        11.20         29.37           70.67      386.0          0.07449   \n",
       "2        10.57         18.32           66.82      340.9          0.08142   \n",
       "3        12.76         18.84           81.87      496.6          0.09676   \n",
       "4        11.29         13.04           72.23      388.0          0.09834   \n",
       "\n",
       "   mean compactness  mean concavity  mean concave points  mean symmetry  \\\n",
       "0           0.14830         0.10200              0.05564         0.1957   \n",
       "1           0.03558         0.00000              0.00000         0.1060   \n",
       "2           0.04462         0.01993              0.01111         0.2372   \n",
       "3           0.07952         0.02688              0.01781         0.1759   \n",
       "4           0.07608         0.03265              0.02755         0.1769   \n",
       "\n",
       "   mean fractal dimension  ...  worst radius  worst texture  worst perimeter  \\\n",
       "0                 0.07255  ...         13.36          25.40            88.14   \n",
       "1                 0.05502  ...         11.92          38.30            75.19   \n",
       "2                 0.05768  ...         10.94          23.31            69.35   \n",
       "3                 0.06183  ...         13.75          25.99            87.82   \n",
       "4                 0.06270  ...         12.32          16.18            78.27   \n",
       "\n",
       "   worst area  worst smoothness  worst compactness  worst concavity  \\\n",
       "0       528.1           0.17800            0.28780          0.31860   \n",
       "1       439.6           0.09267            0.05494          0.00000   \n",
       "2       366.3           0.09794            0.06542          0.03986   \n",
       "3       579.7           0.12980            0.18390          0.12550   \n",
       "4       457.5           0.13580            0.15070          0.12750   \n",
       "\n",
       "   worst concave points  worst symmetry  worst fractal dimension  \n",
       "0               0.14160          0.2660                  0.09270  \n",
       "1               0.00000          0.1566                  0.05905  \n",
       "2               0.02222          0.2699                  0.06736  \n",
       "3               0.08312          0.2744                  0.07238  \n",
       "4               0.08750          0.2733                  0.08022  \n",
       "\n",
       "[5 rows x 30 columns]"
      ]
     },
     "execution_count": 18,
     "metadata": {},
     "output_type": "execute_result"
    }
   ],
   "source": [
    "# Vista rápida de los datos\n",
    "pd.DataFrame(X_train, columns=feature_names).head()"
   ]
  },
  {
   "cell_type": "code",
   "execution_count": 23,
   "id": "bbcaafc2-b679-4afd-b733-c6fba64df969",
   "metadata": {},
   "outputs": [],
   "source": [
    "# Modelos base del taller\n",
    "from sklearn.linear_model import LogisticRegression\n",
    "from sklearn.ensemble import RandomForestClassifier\n",
    "from sklearn.svm import SVC\n",
    "from sklearn.neighbors import KNeighborsClassifier\n",
    "\n",
    "# Utility: función para evaluar y devolver un dict con métricas\n",
    "from sklearn.metrics import accuracy_score, f1_score, roc_auc_score"
   ]
  },
  {
   "cell_type": "code",
   "execution_count": 24,
   "id": "7a1c68e5",
   "metadata": {},
   "outputs": [],
   "source": [
    "models = {\n",
    "    'LogisticRegression': LogisticRegression(max_iter=500, random_state=RANDOM_STATE),\n",
    "    'RandomForest': RandomForestClassifier(random_state=RANDOM_STATE),\n",
    "    'SVM': SVC(probability=True, random_state=RANDOM_STATE),\n",
    "    'KNN': KNeighborsClassifier()\n",
    "}"
   ]
  },
  {
   "cell_type": "code",
   "execution_count": 25,
   "id": "51c7a7aa-6daa-4ae7-9071-ab2529d20829",
   "metadata": {},
   "outputs": [],
   "source": [
    "def evaluate_model(name, model, X_test, y_test):\n",
    "    y_pred = model.predict(X_test)\n",
    "    y_proba = model.predict_proba(X_test)[:,1] if hasattr(model, 'predict_proba') else None\n",
    "    return {\n",
    "        'Model': name,\n",
    "        'Accuracy': accuracy_score(y_test, y_pred),\n",
    "        'F1': f1_score(y_test, y_pred),\n",
    "        'AUC': roc_auc_score(y_test, y_proba) if y_proba is not None else None\n",
    "    }"
   ]
  },
  {
   "cell_type": "markdown",
   "id": "b448589f",
   "metadata": {},
   "source": [
    "## Paso 1 — Preprocesado\n",
    "Escala las features con `StandardScaler` y transforma `X_train` y `X_test`.\n",
    "\n",
    "Pistas:\n",
    "- Ajusta el scaler SOLO con `X_train` (fit), y luego transforma ambos (`transform`).\n",
    "- SVM y KNN suelen mejorar con datos escalados."
   ]
  },
  {
   "cell_type": "code",
   "execution_count": 26,
   "id": "3b9e31a5",
   "metadata": {},
   "outputs": [
    {
     "name": "stdout",
     "output_type": "stream",
     "text": [
      "Scaled shapes: (398, 30) (171, 30)\n"
     ]
    }
   ],
   "source": [
    "# TODO 1: Preprocesado (rellena aquí)\n",
    "from sklearn.preprocessing import StandardScaler # <-- Escoge el preprocesado que quieras\n",
    "\n",
    "scaler = StandardScaler()\n",
    "# Ajusta con el train y transforma train/test\n",
    "X_train_scaled = scaler.fit_transform(X_train) # fit y transform en train\n",
    "X_test_scaled = scaler.fit_transform(X_test)   # transform en test\n",
    "\n",
    "print('Scaled shapes:', X_train_scaled.shape, X_test_scaled.shape)"
   ]
  },
  {
   "cell_type": "markdown",
   "id": "b985fdfb",
   "metadata": {},
   "source": [
    "## Paso 2 — Entrenamiento básico\n",
    "Entrena cada modelo con parámetros por defecto sobre `X_train_scaled`, evalúa en `X_test_scaled` con `evaluate_model(...)` y guarda los resultados en una lista `results` para crear un `DataFrame`."
   ]
  },
  {
   "cell_type": "code",
   "execution_count": 29,
   "id": "5d60691f",
   "metadata": {},
   "outputs": [
    {
     "data": {
      "text/html": [
       "<div>\n",
       "<style scoped>\n",
       "    .dataframe tbody tr th:only-of-type {\n",
       "        vertical-align: middle;\n",
       "    }\n",
       "\n",
       "    .dataframe tbody tr th {\n",
       "        vertical-align: top;\n",
       "    }\n",
       "\n",
       "    .dataframe thead th {\n",
       "        text-align: right;\n",
       "    }\n",
       "</style>\n",
       "<table border=\"1\" class=\"dataframe\">\n",
       "  <thead>\n",
       "    <tr style=\"text-align: right;\">\n",
       "      <th></th>\n",
       "      <th>Model</th>\n",
       "      <th>Accuracy</th>\n",
       "      <th>F1</th>\n",
       "      <th>AUC</th>\n",
       "    </tr>\n",
       "  </thead>\n",
       "  <tbody>\n",
       "    <tr>\n",
       "      <th>0</th>\n",
       "      <td>LogisticRegression</td>\n",
       "      <td>0.964912</td>\n",
       "      <td>0.971698</td>\n",
       "      <td>0.994889</td>\n",
       "    </tr>\n",
       "    <tr>\n",
       "      <th>1</th>\n",
       "      <td>RandomForest</td>\n",
       "      <td>0.941520</td>\n",
       "      <td>0.953704</td>\n",
       "      <td>0.991019</td>\n",
       "    </tr>\n",
       "    <tr>\n",
       "      <th>2</th>\n",
       "      <td>SVM</td>\n",
       "      <td>0.976608</td>\n",
       "      <td>0.981308</td>\n",
       "      <td>0.996349</td>\n",
       "    </tr>\n",
       "    <tr>\n",
       "      <th>3</th>\n",
       "      <td>KNN</td>\n",
       "      <td>0.953216</td>\n",
       "      <td>0.962617</td>\n",
       "      <td>0.985032</td>\n",
       "    </tr>\n",
       "  </tbody>\n",
       "</table>\n",
       "</div>"
      ],
      "text/plain": [
       "                Model  Accuracy        F1       AUC\n",
       "0  LogisticRegression  0.964912  0.971698  0.994889\n",
       "1        RandomForest  0.941520  0.953704  0.991019\n",
       "2                 SVM  0.976608  0.981308  0.996349\n",
       "3                 KNN  0.953216  0.962617  0.985032"
      ]
     },
     "execution_count": 29,
     "metadata": {},
     "output_type": "execute_result"
    }
   ],
   "source": [
    "# TODO 2: Entrenamiento y evaluación básica\n",
    "results = []\n",
    "for name, model in models.items():\n",
    "    # model.fit con train scaled\n",
    "    model.fit(X_train_scaled, y_train)\n",
    "    res = evaluate_model(name, model, X_test_scaled, y_test)  # evaluate_model con test scaled\n",
    "    results.append(res)\n",
    "results_df = pd.DataFrame(results)\n",
    "results_df"
   ]
  },
  {
   "cell_type": "markdown",
   "id": "cdfdfed5",
   "metadata": {},
   "source": [
    "## Paso 3 — Ajuste rápido de hiperparámetros\n",
    "Usa `GridSearchCV`:\n",
    "- Para RandomForest: explora `n_estimators` y `max_depth` (puedes añadir `max_features`).\n",
    "- Para SVM: explora `C` y `kernel`.\n",
    "- Usa scoring multi-métrica (p. ej. `{'f1': 'f1', 'accuracy': 'accuracy'}`) y decide `refit`.\n",
    "- Evalúa los mejores modelos en test y compáralos con los baseline del Paso 2."
   ]
  },
  {
   "cell_type": "code",
   "execution_count": 42,
   "id": "5d9ccf1d-3b20-4ad6-90c4-dca3bff92964",
   "metadata": {},
   "outputs": [],
   "source": [
    "# TODO 3: GridSearchCV\n",
    "from sklearn.model_selection import GridSearchCV"
   ]
  },
  {
   "cell_type": "code",
   "execution_count": 43,
   "id": "4d88337e-c25f-44ce-9727-d0b5e158a00b",
   "metadata": {},
   "outputs": [],
   "source": [
    "scoring = \"f1\"\n",
    "param_grid = {\n",
    "    \"LogisticRegression\": {\"C\": [0.1, 1, 10, 100], \"penalty\": [\"l1\", \"l2\"]},\n",
    "    \"RandomForest\": {\"n_estimators\": [50, 100, 200], \"max_depth\": [3, 5, 10, None]},\n",
    "    \"SVM\": {\"C\": [0.1, 1, 10], \"kernel\": [\"linear\", \"rbf\"]},\n",
    "    \"KNN\": {\"n_neighbors\": [3, 5, 7, 9], \"weights\": [\"uniform\", \"distance\"]},\n",
    "}"
   ]
  },
  {
   "cell_type": "code",
   "execution_count": 44,
   "id": "2b16ab89-a6d4-4321-9ff4-16d273d63e7f",
   "metadata": {},
   "outputs": [
    {
     "name": "stdout",
     "output_type": "stream",
     "text": [
      "Best params for LogisticRegression: {'C': 1, 'penalty': 'l2'}\n",
      "Best params for RandomForest: {'max_depth': 5, 'n_estimators': 100}\n",
      "Best params for SVM: {'C': 0.1, 'kernel': 'linear'}\n",
      "Best params for KNN: {'n_neighbors': 3, 'weights': 'uniform'}\n"
     ]
    }
   ],
   "source": [
    "best_models = {}\n",
    "for name, model in models.items():\n",
    "    grid = GridSearchCV(model, param_grid[name], scoring=scoring, cv=5, n_jobs=-1)  # GridSearchCV\n",
    "    grid.fit(X_train_scaled, y_train)  # grid.fit con train scaled\n",
    "    best_models[name + \"_grid\"] = grid.best_estimator_\n",
    "    print(f\"Best params for {name}: {grid.best_params_}\")"
   ]
  },
  {
   "cell_type": "code",
   "execution_count": 45,
   "id": "5d46195f-8076-458f-ae4e-cfae4b10774f",
   "metadata": {},
   "outputs": [],
   "source": [
    "# Evaluación de los mejores modelos\n",
    "best_results = []\n",
    "for name, model in best_models.items():\n",
    "    res = evaluate_model(name, model, X_test_scaled, y_test)  # evaluate_model\n",
    "    best_results.append(res)"
   ]
  },
  {
   "cell_type": "code",
   "execution_count": 46,
   "id": "a5ccf925-2b2e-475c-8e89-853d7edfc3f8",
   "metadata": {},
   "outputs": [
    {
     "data": {
      "text/html": [
       "<div>\n",
       "<style scoped>\n",
       "    .dataframe tbody tr th:only-of-type {\n",
       "        vertical-align: middle;\n",
       "    }\n",
       "\n",
       "    .dataframe tbody tr th {\n",
       "        vertical-align: top;\n",
       "    }\n",
       "\n",
       "    .dataframe thead th {\n",
       "        text-align: right;\n",
       "    }\n",
       "</style>\n",
       "<table border=\"1\" class=\"dataframe\">\n",
       "  <thead>\n",
       "    <tr style=\"text-align: right;\">\n",
       "      <th></th>\n",
       "      <th>Model</th>\n",
       "      <th>Accuracy</th>\n",
       "      <th>F1</th>\n",
       "      <th>AUC</th>\n",
       "    </tr>\n",
       "  </thead>\n",
       "  <tbody>\n",
       "    <tr>\n",
       "      <th>0</th>\n",
       "      <td>LogisticRegression_grid</td>\n",
       "      <td>0.964912</td>\n",
       "      <td>0.971698</td>\n",
       "      <td>0.994889</td>\n",
       "    </tr>\n",
       "    <tr>\n",
       "      <th>1</th>\n",
       "      <td>RandomForest_grid</td>\n",
       "      <td>0.941520</td>\n",
       "      <td>0.953704</td>\n",
       "      <td>0.988026</td>\n",
       "    </tr>\n",
       "    <tr>\n",
       "      <th>2</th>\n",
       "      <td>SVM_grid</td>\n",
       "      <td>0.976608</td>\n",
       "      <td>0.981308</td>\n",
       "      <td>0.989486</td>\n",
       "    </tr>\n",
       "    <tr>\n",
       "      <th>3</th>\n",
       "      <td>KNN_grid</td>\n",
       "      <td>0.959064</td>\n",
       "      <td>0.968037</td>\n",
       "      <td>0.986273</td>\n",
       "    </tr>\n",
       "  </tbody>\n",
       "</table>\n",
       "</div>"
      ],
      "text/plain": [
       "                     Model  Accuracy        F1       AUC\n",
       "0  LogisticRegression_grid  0.964912  0.971698  0.994889\n",
       "1        RandomForest_grid  0.941520  0.953704  0.988026\n",
       "2                 SVM_grid  0.976608  0.981308  0.989486\n",
       "3                 KNN_grid  0.959064  0.968037  0.986273"
      ]
     },
     "execution_count": 46,
     "metadata": {},
     "output_type": "execute_result"
    }
   ],
   "source": [
    "tuned_results_df = pd.DataFrame(best_results)\n",
    "tuned_results_df"
   ]
  },
  {
   "cell_type": "markdown",
   "id": "67809158",
   "metadata": {},
   "source": [
    "## Paso 4 — Comparación y visualización\n",
    "- Crea una tabla comparativa combinando baseline (`results_df`) y modelos ajustados (`tuned_results_df`).\n",
    "- Grafica las métricas Accuracy, F1 y AUC por modelo.\n",
    "- Dibuja la matriz de confusión del mejor modelo (según tu criterio) y sus curvas ROC y Precision-Recall.\n",
    "- Responde en Markdown: ¿qué modelo elegirías para producción y por qué? (justifica con métricas y estabilidad)."
   ]
  },
  {
   "cell_type": "code",
   "execution_count": 47,
   "id": "47b330d6",
   "metadata": {},
   "outputs": [
    {
     "name": "stdout",
     "output_type": "stream",
     "text": [
      "                     Model  Accuracy        F1       AUC\n",
      "0       LogisticRegression  0.964912  0.971698  0.994889\n",
      "1             RandomForest  0.941520  0.953704  0.991019\n",
      "2                      SVM  0.976608  0.981308  0.996349\n",
      "3                      KNN  0.953216  0.962617  0.985032\n",
      "4  LogisticRegression_grid  0.964912  0.971698  0.994889\n",
      "5        RandomForest_grid  0.941520  0.953704  0.988026\n",
      "6                 SVM_grid  0.976608  0.981308  0.989486\n",
      "7                 KNN_grid  0.959064  0.968037  0.986273\n"
     ]
    },
    {
     "data": {
      "image/png": "[encoded data removed]",
      "text/plain": [
       "<Figure size 1000x600 with 1 Axes>"
      ]
     },
     "metadata": {},
     "output_type": "display_data"
    },
    {
     "name": "stdout",
     "output_type": "stream",
     "text": [
      "Best by F1: SVM\n"
     ]
    },
    {
     "data": {
      "image/png": "[encoded data removed]",
      "text/plain": [
       "<Figure size 500x400 with 2 Axes>"
      ]
     },
     "metadata": {},
     "output_type": "display_data"
    },
    {
     "data": {
      "image/png": "[encoded data removed]",
      "text/plain": [
       "<Figure size 640x480 with 1 Axes>"
      ]
     },
     "metadata": {},
     "output_type": "display_data"
    },
    {
     "data": {
      "image/png": "[encoded data removed]",
      "text/plain": [
       "<Figure size 640x480 with 1 Axes>"
      ]
     },
     "metadata": {},
     "output_type": "display_data"
    }
   ],
   "source": [
    "# TODO 4: Visualización comparativa\n",
    "import matplotlib.pyplot as plt\n",
    "import seaborn as sns\n",
    "from sklearn.metrics import (\n",
    "    confusion_matrix,\n",
    "    roc_auc_score,\n",
    "    roc_curve,\n",
    "    precision_recall_curve,\n",
    ")\n",
    "\n",
    "all_results = pd.concat([results_df, tuned_results_df], ignore_index=True)\n",
    "print(all_results)\n",
    "\n",
    "# Barras comparativas\n",
    "ax = all_results.set_index(\"Model\")[[\"Accuracy\", \"F1\", \"AUC\"]].plot(\n",
    "    kind=\"bar\", figsize=(10, 6)\n",
    ")\n",
    "plt.title(\"Benchmarking: Accuracy, F1, AUC\")\n",
    "plt.ylabel(\"Score\")\n",
    "plt.show()\n",
    "\n",
    "# TODO: selecciona tu mejor modelo (por nombre) de all_results\n",
    "best_name = all_results.sort_values(\"F1\", ascending=False).iloc[0][\n",
    "    \"Model\"\n",
    "]  # puedes cambiar el criterio\n",
    "print(\"Best by F1:\", best_name)\n",
    "\n",
    "# Recupera el estimador entrenado correspondiente\n",
    "trained_estimators = {**models, **best_models}\n",
    "best_est = trained_estimators[best_name]\n",
    "y_pred_best = best_est.predict(X_test_scaled)\n",
    "\n",
    "# Si hay probabilidades, calcula curvas ROC/PR\n",
    "has_proba = hasattr(best_est, \"predict_proba\")\n",
    "y_proba_best = best_est.predict_proba(X_test_scaled)[:, 1] if has_proba else None\n",
    "\n",
    "# Matriz de confusión\n",
    "cm = confusion_matrix(y_test, y_pred_best)  # confusion_matrix con y_test y y_pred_best\n",
    "plt.figure(figsize=(5, 4))\n",
    "sns.heatmap(cm, annot=True, fmt=\"d\", cmap=\"Blues\")\n",
    "plt.title(f\"Confusion Matrix - {best_name}\")\n",
    "plt.xlabel(\"Predicho\")\n",
    "plt.ylabel(\"Real\")\n",
    "plt.show()\n",
    "\n",
    "# Curvas ROC y PR (si aplica)\n",
    "if y_proba_best is not None:\n",
    "    fpr, tpr, _ = roc_curve(y_test, y_proba_best)  # roc_curve con y_test y y_proba_best\n",
    "    precision, recall, _ = precision_recall_curve(y_test, y_proba_best)  # precision_recall_curve\n",
    "    \n",
    "    plt.figure()\n",
    "    plt.plot(fpr, tpr)\n",
    "    plt.plot([0, 1], [0, 1], \"--\")\n",
    "    plt.title(f\"ROC curve - {best_name}\")\n",
    "    plt.xlabel(\"FPR\")\n",
    "    plt.ylabel(\"TPR\")\n",
    "    plt.show()\n",
    "    \n",
    "    plt.figure()\n",
    "    plt.plot(recall, precision)\n",
    "    plt.title(f\"Precision-Recall curve - {best_name}\")\n",
    "    plt.xlabel(\"Recall\")\n",
    "    plt.ylabel(\"Precision\")\n",
    "    plt.show()\n",
    "else:\n",
    "    print(\n",
    "        f\"{best_name} no expone predict_proba; puedes usar decision_function o elegir otro modelo para curvas.\"\n",
    "    )"
   ]
  },
  {
   "cell_type": "markdown",
   "id": "99fc3cde",
   "metadata": {},
   "source": [
    "## Paso 5 — Validación cruzada y estabilidad\n",
    "- Usa `cross_validate` con dos métricas (accuracy y f1) para los cuatro modelos sobre todo el conjunto (X, y) con `cv=5`.\n",
    "- Resume media y desviación estándar por modelo y métrica.\n",
    "- Genera predicciones out-of-fold con `cross_val_predict` para tu modelo favorito y dibuja su matriz de confusión OOF."
   ]
  },
  {
   "cell_type": "code",
   "execution_count": null,
   "id": "718d8982",
   "metadata": {},
   "outputs": [],
   "source": [
    "# TODO 5: Validación cruzada y OOF\n",
    "from sklearn.model_selection import cross_validate, StratifiedKFold\n",
    "import seaborn as sns\n",
    "import matplotlib.pyplot as plt\n",
    "\n",
    "cv = # StratifiedKFold con n_splits=5, shuffle=True, random_state=RANDOM_STATE\n",
    "scoring = {} # Añade accuracy y f1\n",
    "\n",
    "cv_rows = []\n",
    "for name, model in models.items():\n",
    "    scores = # cross_validate con model, X, y, cv=cv, scoring, n_jobs=-1\n",
    "    cv_rows.append({\n",
    "        'Model': name,\n",
    "        'cv_accuracy_mean': scores['test_accuracy'].mean(),\n",
    "        'cv_accuracy_std': scores['test_accuracy'].std(),\n",
    "        'cv_f1_mean': scores['test_f1'].mean(),\n",
    "        'cv_f1_std': scores['test_f1'].std(),\n",
    "    })\n",
    "\n",
    "cv_df = pd.DataFrame(cv_rows)\n",
    "cv_df"
   ]
  },
  {
   "cell_type": "code",
   "execution_count": null,
   "id": "edbf84ed",
   "metadata": {},
   "outputs": [],
   "source": [
    "from sklearn.calibration import cross_val_predict\n",
    "from sklearn.metrics import confusion_matrix\n",
    "\n",
    "\n",
    "favorite = \"RandomForest\"\n",
    "y_oof = None  # cross_val_predict con models[favorite], X, y, cv=cv\n",
    "cm_oof = None  # confusion_matrix con y, y_oof\n",
    "plt.figure(figsize=(5, 4))\n",
    "sns.heatmap(cm_oof, annot=True, fmt=\"d\", cmap=\"Blues\")\n",
    "plt.title(f\"Matriz de confusión OOF - {favorite}\")\n",
    "plt.xlabel(\"Predicho\")\n",
    "plt.ylabel(\"Real\")\n",
    "plt.show()"
   ]
  },
  {
   "cell_type": "markdown",
   "id": "1567fb7a",
   "metadata": {},
   "source": [
    "## (Opcional) Paso 6 — Nested CV\n",
    "Implementa una nested CV para SVM o RF:\n",
    "- Outer CV (p.ej. 5 folds estratificada) para estimar rendimiento generalizado.\n",
    "- Inner GridSearchCV (como en Paso 3) para seleccionar hiperparámetros.\n",
    "- Reporta la media y desviación de la métrica en los folds externos.\n"
   ]
  },
  {
   "cell_type": "code",
   "execution_count": null,
   "id": "224f80dd",
   "metadata": {},
   "outputs": [],
   "source": [
    "# TODO (opcional) 6: Nested CV scaffold\n",
    "from sklearn.model_selection import StratifiedKFold, GridSearchCV, cross_val_score\n",
    "\n",
    "outer_cv = # StratifiedKFold con n_splits=5, shuffle=True, random_state=RANDOM_STATE\n",
    "inner_cv = # StratifiedKFold con n_splits=3, shuffle=True, random_state=RANDOM_STATE\n",
    "\n",
    "# Elige un modelo y su grid (ejemplo: SVM)\n",
    "base_est = models['SVM']  # <-- puedes cambiar\n",
    "param_grid = {\n",
    "    'C': [],\n",
    "    'kernel': []\n",
    "}\n",
    "\n",
    "clf = # GridSearchCV con base_est, param_grid, scoring='f1', cv=inner_cv, n_jobs=-1\n",
    "outer_scores = # cross_val_score con clf, X, y, scoring='f1', cv=outer_cv, n_jobs=-1\n",
    "print('Nested CV F1 (mean±std):', outer_scores.mean(), '±', outer_scores.std())"
   ]
  }
 ],
 "metadata": {
  "kernelspec": {
   "display_name": "Python 3 (ipykernel)",
   "language": "python",
   "name": "python3"
  },
  "language_info": {
   "codemirror_mode": {
    "name": "ipython",
    "version": 3
   },
   "file_extension": ".py",
   "mimetype": "text/x-python",
   "name": "python",
   "nbconvert_exporter": "python",
   "pygments_lexer": "ipython3",
   "version": "3.11.0"
  }
 },
 "nbformat": 4,
 "nbformat_minor": 5
}
